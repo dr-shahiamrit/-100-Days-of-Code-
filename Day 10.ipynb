{
 "cells": [
  {
   "cell_type": "code",
   "execution_count": 5,
   "metadata": {},
   "outputs": [
    {
     "name": "stdout",
     "output_type": "stream",
     "text": [
      "Amrit Shahi\n"
     ]
    }
   ],
   "source": [
    "# Function with outputs\n",
    "\n",
    "def format_name(f_name, l_name):\n",
    "    formated_f_name = f_name.title()\n",
    "    format_l_name = l_name.title()\n",
    "\n",
    "    print(f\"{formated_f_name} {format_l_name}\")\n",
    "format_name(\"AmRit\", \"SHAHI\")"
   ]
  },
  {
   "cell_type": "code",
   "execution_count": 9,
   "metadata": {},
   "outputs": [
    {
     "name": "stdout",
     "output_type": "stream",
     "text": [
      "Amrit Shahi\n"
     ]
    }
   ],
   "source": [
    "def format_name(f_name, l_name):\n",
    "    formated_f_name = f_name.title()\n",
    "    format_l_name = l_name.title()\n",
    "    return f\"{formated_f_name} {format_l_name}\"\n",
    "\n",
    "formated_string = format_name(\"AmRit\", \"SHAHI\")\n",
    "print(formated_string)"
   ]
  },
  {
   "cell_type": "code",
   "execution_count": 10,
   "metadata": {},
   "outputs": [
    {
     "name": "stdout",
     "output_type": "stream",
     "text": [
      "Amrit Shahi\n"
     ]
    }
   ],
   "source": [
    "def format_name(f_name, l_name):\n",
    "    formated_f_name = f_name.title()\n",
    "    format_l_name = l_name.title()\n",
    "    return f\"{formated_f_name} {format_l_name}\"\n",
    "\n",
    "print(format_name(\"AmRit\", \"SHAHI\"))"
   ]
  },
  {
   "cell_type": "code",
   "execution_count": 11,
   "metadata": {},
   "outputs": [
    {
     "name": "stdout",
     "output_type": "stream",
     "text": [
      "Amrit Shahi\n"
     ]
    }
   ],
   "source": [
    "# Multiple return value\n",
    "def format_name(f_name, l_name):\n",
    "    formated_f_name = f_name.title()\n",
    "    formated_l_name = l_name.title()\n",
    "    return f\"{formated_f_name} {formated_l_name}\"\n",
    "\n",
    "print(format_name(input(\"What is your first name? \"), input(\"What is your last name? \")))"
   ]
  },
  {
   "cell_type": "code",
   "execution_count": 12,
   "metadata": {},
   "outputs": [
    {
     "name": "stdout",
     "output_type": "stream",
     "text": [
      "You didn't provide valid inputs.\n"
     ]
    }
   ],
   "source": [
    "# Multiple return value\n",
    "def format_name(f_name, l_name):\n",
    "    if f_name == \"\" or l_name == \"\":\n",
    "        return \"You didn't provide valid inputs.\"\n",
    "    formated_f_name = f_name.title()\n",
    "    formated_l_name = l_name.title()\n",
    "    return f\"{formated_f_name} {formated_l_name}\"\n",
    "\n",
    "print(format_name(input(\"What is your first name? \"), input(\"What is your last name? \")))"
   ]
  },
  {
   "cell_type": "code",
   "execution_count": 13,
   "metadata": {},
   "outputs": [
    {
     "name": "stdout",
     "output_type": "stream",
     "text": [
      "28\n"
     ]
    }
   ],
   "source": [
    "# Day 10.1 Days in Month Exercise\n",
    "def is_leap(year):\n",
    "  if year % 4 == 0:\n",
    "    if year % 100 == 0:\n",
    "      if year % 400 == 0:\n",
    "        return True\n",
    "      else:\n",
    "        return False\n",
    "    else:\n",
    "      return True\n",
    "  else:\n",
    "    return False\n",
    "\n",
    "def days_in_month(year, month):\n",
    "  if month > 12 or month < 1:\n",
    "    return \"Invalid month\"\n",
    "  month_days = [31, 28, 31, 30, 31, 30, 31, 31, 30, 31, 30, 31]  \n",
    "  if is_leap(year) and month == 2:\n",
    "    return 29\n",
    "  return month_days[month - 1]\n",
    "  \n",
    "#🚨 Do NOT change any of the code below \n",
    "year = int(input(\"Enter a year: \"))\n",
    "month = int(input(\"Enter a month: \"))\n",
    "days = days_in_month(year, month)\n",
    "print(days)"
   ]
  },
  {
   "cell_type": "code",
   "execution_count": 27,
   "metadata": {},
   "outputs": [
    {
     "name": "stdout",
     "output_type": "stream",
     "text": [
      "+\n",
      "-\n",
      "*\n",
      "/\n",
      "4 * 4 = 16\n"
     ]
    }
   ],
   "source": [
    "# Calculator\n",
    "\n",
    "#Add\n",
    "def add(n1, n2):\n",
    "    return n1 + n2\n",
    "# Subtract\n",
    "def subtract(n1, n2):\n",
    "    return n1 - n2\n",
    "# Multiply\n",
    "def multiply(n1, n2):\n",
    "    return n1 * n2\n",
    "# Division\n",
    "def divide(n1, n2):\n",
    "    return n1 / n2\n",
    "\n",
    "operations = {\n",
    "    \"+\": add,\n",
    "    \"-\": subtract,\n",
    "    \"*\": multiply,\n",
    "    \"/\": divide\n",
    "}\n",
    "\n",
    "num1 = int(input(\"What's the first number?: \"))\n",
    "num2 = int(input(\"What's the second number?: \"))\n",
    "\n",
    "for symbol in operations:\n",
    "    print(symbol)\n",
    "operations_symbol = input(\"Pick an operation from the line above: \")\n",
    "calculation_function = operations[operations_symbol]\n",
    "answer = calculation_function(num1, num2)\n",
    "\n",
    "# if operations[operations_symbol] == add:\n",
    "#     answer = add(num1, num2)\n",
    "# elif operations[operations_symbol] == subtract:\n",
    "#     answer = subtract(num1, num2)\n",
    "# elif operations[operations_symbol] == multiply:\n",
    "#     answer = multiply(num1, num2)\n",
    "# elif operations[operations] == divide:\n",
    "#     answer = divide(num1, num2)\n",
    "# else:\n",
    "#     print(\"Enter a valid operation symbol\")\n",
    "\n",
    "\n",
    "print(f\"{num1} {operations_symbol} {num2} = {answer}\")\n"
   ]
  },
  {
   "cell_type": "code",
   "execution_count": null,
   "metadata": {},
   "outputs": [],
   "source": []
  }
 ],
 "metadata": {
  "kernelspec": {
   "display_name": "Python 3",
   "language": "python",
   "name": "python3"
  },
  "language_info": {
   "codemirror_mode": {
    "name": "ipython",
    "version": 3
   },
   "file_extension": ".py",
   "mimetype": "text/x-python",
   "name": "python",
   "nbconvert_exporter": "python",
   "pygments_lexer": "ipython3",
   "version": "3.11.4"
  },
  "orig_nbformat": 4
 },
 "nbformat": 4,
 "nbformat_minor": 2
}
