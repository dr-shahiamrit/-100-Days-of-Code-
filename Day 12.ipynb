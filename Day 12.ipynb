{
 "cells": [
  {
   "cell_type": "code",
   "execution_count": 2,
   "metadata": {},
   "outputs": [
    {
     "name": "stdout",
     "output_type": "stream",
     "text": [
      "enemies inside function: 2\n",
      "enemies outside function: 1\n"
     ]
    }
   ],
   "source": [
    "# Namespaces: Local vs. Global Scope\n",
    "##################  scope #############\n",
    "\n",
    "enemies = 1\n",
    "def increse_enemies():\n",
    "    enemies = 2\n",
    "    print(f\"enemies inside function: {enemies}\")\n",
    "increse_enemies()\n",
    "print(f\"enemies outside function: {enemies}\")"
   ]
  },
  {
   "cell_type": "code",
   "execution_count": 11,
   "metadata": {},
   "outputs": [
    {
     "name": "stdout",
     "output_type": "stream",
     "text": [
      "2\n"
     ]
    }
   ],
   "source": [
    "# Local Scope\n",
    "def drink_portion():\n",
    "    portion_strength = 2\n",
    "    print(portion_strength)\n",
    "drink_portion()\n",
    "# portion_strength only valid within the drink wall of the function "
   ]
  },
  {
   "cell_type": "code",
   "execution_count": 12,
   "metadata": {},
   "outputs": [
    {
     "name": "stdout",
     "output_type": "stream",
     "text": [
      "2\n",
      "2\n"
     ]
    }
   ],
   "source": [
    "# Global Scope\n",
    "portion_strength = 2\n",
    "def drink_portion():\n",
    "    print(portion_strength)\n",
    "drink_portion()\n",
    "print(portion_strength)"
   ]
  },
  {
   "cell_type": "code",
   "execution_count": 13,
   "metadata": {},
   "outputs": [],
   "source": [
    "# Does python have block scope\n",
    "# Answer is there is no such things in block scope in python"
   ]
  },
  {
   "cell_type": "code",
   "execution_count": 14,
   "metadata": {},
   "outputs": [
    {
     "name": "stdout",
     "output_type": "stream",
     "text": [
      "enemies inside function: 2\n",
      "enemies outside function: 2\n"
     ]
    }
   ],
   "source": [
    "# Modifying Global Scope\n",
    "# not recomended\n",
    "enemies = 1\n",
    "\n",
    "def increse_enemies():\n",
    "    global enemies\n",
    "    enemies += 1\n",
    "    print(f\"enemies inside function: {enemies}\")\n",
    "\n",
    "increse_enemies()\n",
    "print(f\"enemies outside function: {enemies}\")"
   ]
  },
  {
   "cell_type": "code",
   "execution_count": 18,
   "metadata": {},
   "outputs": [
    {
     "name": "stdout",
     "output_type": "stream",
     "text": [
      "enemies inside function: 1\n",
      "enemies outside function: 2\n"
     ]
    }
   ],
   "source": [
    "enemies = 1\n",
    "\n",
    "def increse_enemies():\n",
    "    print(f\"enemies inside function: {enemies}\")\n",
    "    return enemies + 1\n",
    "\n",
    "enemies = increse_enemies()\n",
    "print(f\"enemies outside function: {enemies}\")"
   ]
  },
  {
   "cell_type": "code",
   "execution_count": 1,
   "metadata": {},
   "outputs": [],
   "source": [
    "# Python Constants & Global Scope\n"
   ]
  },
  {
   "cell_type": "code",
   "execution_count": 2,
   "metadata": {},
   "outputs": [
    {
     "name": "stdout",
     "output_type": "stream",
     "text": [
      "Welcome to the Number Guessing Game!\n",
      "I'm thinking of a number between 1 and 100.\n",
      "Pssst, the correct answer is 3\n",
      "You have 5 attempts remaining to guess the number.\n",
      "You have 5 attempts remaining to guess the number.\n",
      "You have 5 attempts remaining to guess the number.\n",
      "You have 5 attempts remaining to guess the number.\n",
      "You have 5 attempts remaining to guess the number.\n",
      "You have 5 attempts remaining to guess the number.\n",
      "You have 5 attempts remaining to guess the number.\n",
      "You have 5 attempts remaining to guess the number.\n",
      "You have 5 attempts remaining to guess the number.\n",
      "You have 5 attempts remaining to guess the number.\n"
     ]
    },
    {
     "ename": "ValueError",
     "evalue": "invalid literal for int() with base 10: ''",
     "output_type": "error",
     "traceback": [
      "\u001b[1;31m---------------------------------------------------------------------------\u001b[0m",
      "\u001b[1;31mValueError\u001b[0m                                Traceback (most recent call last)",
      "Cell \u001b[1;32mIn[2], line 50\u001b[0m\n\u001b[0;32m     48\u001b[0m         \u001b[39mprint\u001b[39m(\u001b[39m\"\u001b[39m\u001b[39mGuess again.\u001b[39m\u001b[39m\"\u001b[39m)\n\u001b[0;32m     49\u001b[0m \u001b[39m# Function to check user guess again actural answer\u001b[39;00m\n\u001b[1;32m---> 50\u001b[0m game()\n\u001b[0;32m     51\u001b[0m \u001b[39m# Track the numbers of turns and reduced by 1 if they get it wrong.\u001b[39;00m\n\u001b[0;32m     52\u001b[0m \n\u001b[0;32m     53\u001b[0m \u001b[39m# Repeat the guessing funcanality if they get it wrong.\u001b[39;00m\n\u001b[0;32m     54\u001b[0m \n\u001b[0;32m     55\u001b[0m \u001b[39m#\u001b[39;00m\n",
      "Cell \u001b[1;32mIn[2], line 40\u001b[0m, in \u001b[0;36mgame\u001b[1;34m()\u001b[0m\n\u001b[0;32m     38\u001b[0m \u001b[39mwhile\u001b[39;00m guess \u001b[39m!=\u001b[39m answer:\n\u001b[0;32m     39\u001b[0m     \u001b[39mprint\u001b[39m(\u001b[39mf\u001b[39m\u001b[39m\"\u001b[39m\u001b[39mYou have \u001b[39m\u001b[39m{\u001b[39;00mturns\u001b[39m}\u001b[39;00m\u001b[39m attempts remaining to guess the number.\u001b[39m\u001b[39m\"\u001b[39m)\n\u001b[1;32m---> 40\u001b[0m     guess \u001b[39m=\u001b[39m \u001b[39mint\u001b[39;49m(\u001b[39minput\u001b[39;49m(\u001b[39m\"\u001b[39;49m\u001b[39mMake a guess: \u001b[39;49m\u001b[39m\"\u001b[39;49m))\n\u001b[0;32m     42\u001b[0m turns \u001b[39m=\u001b[39m check_answer(guess, answer, turns)\n\u001b[0;32m     44\u001b[0m \u001b[39mif\u001b[39;00m turns \u001b[39m==\u001b[39m \u001b[39m0\u001b[39m:\n",
      "\u001b[1;31mValueError\u001b[0m: invalid literal for int() with base 10: ''"
     ]
    }
   ],
   "source": [
    "# Number Guessing Game\n",
    "EASY_LEVEL_TURNS = 10\n",
    "HARD_LEVEL_TURNS = 5\n",
    "\n",
    "\n",
    "#Choosing a random number between 1 and 100\n",
    "from random import randint\n",
    "def check_answer(guess, answer, turns):\n",
    "    if guess > answer:\n",
    "        print(\"Too High.\")\n",
    "        return turns - 1\n",
    "    elif guess < answer:\n",
    "        print(\"Too Low.\")\n",
    "        return turns - 1\n",
    "    else:\n",
    "        print(f\"You got it! The answer was {answer}.\")\n",
    "\n",
    "#Make function to set difficulty\n",
    "def set_difficulty():\n",
    "    level = input(\"Choose a difficulty. Type 'easy' or 'hard': \")\n",
    "    if level == \"easy\":\n",
    "        return EASY_LEVEL_TURNS\n",
    "    else:\n",
    "        return HARD_LEVEL_TURNS\n",
    "\n",
    "\n",
    "def game():\n",
    "    print(\"Welcome to the Number Guessing Game!\")\n",
    "    print(\"I'm thinking of a number between 1 and 100.\")\n",
    "    answer = randint(1, 100)\n",
    "    print(f\"Pssst, the correct answer is {answer}\")\n",
    "\n",
    "\n",
    "    turns = set_difficulty()\n",
    "    \n",
    "    # Let the user guess the number \n",
    "    guess = 0\n",
    "    while guess != answer:\n",
    "        print(f\"You have {turns} attempts remaining to guess the number.\")\n",
    "        guess = int(input(\"Make a guess: \"))\n",
    "\n",
    "    turns = check_answer(guess, answer, turns)\n",
    "\n",
    "    if turns == 0:\n",
    "        print(f\"You have {turns} attempts remaining to guess the number.\")\n",
    "        return \n",
    "    elif guess != answer:\n",
    "        print(\"Guess again.\")\n",
    "# Function to check user guess again actural answer\n",
    "game()\n",
    "# Track the numbers of turns and reduced by 1 if they get it wrong.\n",
    "\n",
    "# Repeat the guessing funcanality if they get it wrong.\n",
    "\n",
    "#"
   ]
  },
  {
   "cell_type": "code",
   "execution_count": null,
   "metadata": {},
   "outputs": [],
   "source": []
  }
 ],
 "metadata": {
  "kernelspec": {
   "display_name": "Python 3",
   "language": "python",
   "name": "python3"
  },
  "language_info": {
   "codemirror_mode": {
    "name": "ipython",
    "version": 3
   },
   "file_extension": ".py",
   "mimetype": "text/x-python",
   "name": "python",
   "nbconvert_exporter": "python",
   "pygments_lexer": "ipython3",
   "version": "3.11.4"
  },
  "orig_nbformat": 4
 },
 "nbformat": 4,
 "nbformat_minor": 2
}
