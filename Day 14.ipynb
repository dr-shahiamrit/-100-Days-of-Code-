{
 "cells": [
  {
   "cell_type": "code",
   "execution_count": 10,
   "metadata": {},
   "outputs": [
    {
     "name": "stdout",
     "output_type": "stream",
     "text": [
      "Sorry, that's wrong. Final score: 2.\n"
     ]
    }
   ],
   "source": [
    "from art2 import logo, vs\n",
    "from game_data import data\n",
    "import random\n",
    "from IPython.display import clear_output\n",
    "\n",
    "def format_data(account):\n",
    "    \"\"\" Format the account data into printable format.\"\"\"\n",
    "    account_name = account[\"name\"]\n",
    "    account_descr = account[\"description\"]\n",
    "    account_country = account[\"country\"]\n",
    "    return f\"{account_name}, a {account_descr}, from {account_country}\"\n",
    "\n",
    "def check_answer(guess, a_followers, b_followers):\n",
    "    \"\"\"Use if statement to check if user is correct.\"\"\"\n",
    "    if a_followers > b_followers:\n",
    "        return guess == \"a\"\n",
    "    else:\n",
    "        return guess == \"b\"\n",
    "\n",
    "\n",
    "# Display art\n",
    "print(logo)\n",
    "score = 0\n",
    "game_should_continue = True\n",
    "account_b = random.choice(data)\n",
    "while game_should_continue:\n",
    "    # Generate a random account from the game data.\n",
    "    account_a = account_b\n",
    "    account_b = random.choice(data)\n",
    "   \n",
    "    if account_a == account_b:\n",
    "        account_b = random.choice(data)\n",
    "    print(f\"Compare A: {format_data(account_a)}.\")\n",
    "    print(vs)\n",
    "    print(f\"Compare B: {format_data(account_b)}.\")\n",
    "\n",
    "    # Ask user for a guess\n",
    "    guess = input(\"Who has more followers? Type 'A' or 'B': \").lower()\n",
    "\n",
    "    # Check if user is correct\n",
    "    ## Get follower count of each account.\n",
    "    a_follower_count = account_a[\"follower_count\"]\n",
    "    b_follower_count = account_b[\"follower_count\"]\n",
    "\n",
    "    is_correct = check_answer(guess, a_follower_count, b_follower_count) \n",
    "\n",
    "    clear_output()\n",
    "    print(logo)\n",
    "    # Given user feedback on their guess\n",
    "    if is_correct:\n",
    "        score += 1\n",
    "        print(f\"You're right! Current score: {score}.\")\n",
    "    else:\n",
    "        game_should_continue = False\n",
    "        print(f\"Sorry, that's wrong. Final score: {score}.\")\n",
    "    # Score keeping\n",
    "\n",
    "    # Make the game repeatable\n",
    "\n",
    "    # Making account at position B become the next account at position A.\n",
    "\n",
    "    # Clear the screen between rounds.\n"
   ]
  },
  {
   "cell_type": "code",
   "execution_count": null,
   "metadata": {},
   "outputs": [],
   "source": []
  },
  {
   "cell_type": "code",
   "execution_count": null,
   "metadata": {},
   "outputs": [],
   "source": []
  }
 ],
 "metadata": {
  "kernelspec": {
   "display_name": "Python 3",
   "language": "python",
   "name": "python3"
  },
  "language_info": {
   "codemirror_mode": {
    "name": "ipython",
    "version": 3
   },
   "file_extension": ".py",
   "mimetype": "text/x-python",
   "name": "python",
   "nbconvert_exporter": "python",
   "pygments_lexer": "ipython3",
   "version": "3.11.4"
  },
  "orig_nbformat": 4
 },
 "nbformat": 4,
 "nbformat_minor": 2
}
