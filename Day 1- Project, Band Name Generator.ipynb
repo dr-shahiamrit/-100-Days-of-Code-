{
 "cells": [
  {
   "cell_type": "code",
   "execution_count": 2,
   "metadata": {},
   "outputs": [
    {
     "name": "stdout",
     "output_type": "stream",
     "text": [
      "Welcome to the brand name generator.\n",
      "Your brand name could be Bristol Rabbit\n"
     ]
    }
   ],
   "source": [
    "#1. Create a greeting for your program\n",
    "print(\"Welcome to the brand name generator.\")\n",
    "#2. Ask the user for the city that they grew up in.\n",
    "city = input(\"What city did you grow up in?\\n\")\n",
    "#3. Ask the user for the name of a pet.\n",
    "pet = input(\"What is the name of a pet?\\n\")\n",
    "#4. Combine the name of their city and pet and show them their brand name.\n",
    "print(\"Your brand name could be \" + city + \" \" + pet)\n",
    "#5. Make sure the input cursor show on a new line\n"
   ]
  }
 ],
 "metadata": {
  "kernelspec": {
   "display_name": "Python 3",
   "language": "python",
   "name": "python3"
  },
  "language_info": {
   "codemirror_mode": {
    "name": "ipython",
    "version": 3
   },
   "file_extension": ".py",
   "mimetype": "text/x-python",
   "name": "python",
   "nbconvert_exporter": "python",
   "pygments_lexer": "ipython3",
   "version": "3.11.4"
  },
  "orig_nbformat": 4
 },
 "nbformat": 4,
 "nbformat_minor": 2
}
